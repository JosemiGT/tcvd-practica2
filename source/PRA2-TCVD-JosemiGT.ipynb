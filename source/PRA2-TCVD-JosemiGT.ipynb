{
 "cells": [
  {
   "attachments": {},
   "cell_type": "markdown",
   "metadata": {},
   "source": [
    "<div style=\"width: 100%; clear: both;\">\n",
    "<div style=\"float: left; width: 50%;\">\n",
    "<img src=\"http://www.uoc.edu/portal/_resources/common/imatges/marca_UOC/UOC_Masterbrand.jpg\" align=\"left\">\n",
    "</div>\n",
    "<div style=\"float: right; width: 50%;\">\n",
    "<p style=\"margin: 0; padding-top: 22px; text-align:right;\">Tipología y ciclo de vida de los datos · PRA2</p>\n",
    "<p style=\"margin: 0; text-align:right;\">Máster universitario en Ciencia de datos (Data science)</p>\n",
    "<p style=\"margin: 0; text-align:right; padding-button: 100px;\">Estudios de Informática, Multimedia y Telecomunicación</p>\n",
    "</div>\n",
    "</div>\n",
    "<div style=\"width:100%;\">&nbsp;</div>\n",
    "\n",
    "\n",
    "# PRA 2: ¿Cómo realizar la limpieza y análisis de datos?\n",
    "\n",
    "<div class=\"alert alert-block alert-info\">\n",
    "<strong>Nombre y apellidos:</strong> José Miguel Gamarro Tornay     \n",
    "</div>\n",
    "\n",
    "\n",
    "Para la elaboración de este trabajo, se utilizará el lenguaje de programación Python y algunas de sus librerías, como herramienta para automatizar procesos de limpieza y de análisis de datos.\n",
    "\n",
    "Se importarán las siguientes librerías:"
   ]
  },
  {
   "cell_type": "code",
   "execution_count": 95,
   "metadata": {},
   "outputs": [],
   "source": [
    "import pandas as pd\n",
    "import matplotlib.pyplot as plt   \n",
    "from scipy.stats import shapiro, wilcoxon, kruskal, ttest_ind"
   ]
  },
  {
   "attachments": {},
   "cell_type": "markdown",
   "metadata": {},
   "source": [
    "\n",
    "## 1. Descripción del dataset.\n",
    "\n",
    "Para el presente trabajo académico, el dataset elegido es el que se indica en la documentación de la práctica: \"Heart Attack Analysis & Prediction dataset\".\n",
    "\n",
    "Este dataset contiene dos csv, en el principal, denominado \"heart.csv\", se reflejan para un total de 303 pacientes, una serie de información médica y personal (año y sexo) junto a si tiene probabilidad mayor de infarto o no.\n",
    "\n",
    "Se establece como objetivo, el análisis de la posible relación entre diferentes parámetros médicos (presión arterial en reposo, colesterol, frecuencia máxima alcanzada, glucemia en ayunas y resultados electrocardiográficos) y la correlación de estos con una mayor probabilidad de infarto.\n",
    "\n",
    "Este análisis puede servir para que médicos puedan detectar de una forma sencilla si un paciente tiene más o menos probabilidad de sufrir un infarto según los indicadores establecidos previamente que se quieren considerar."
   ]
  },
  {
   "cell_type": "code",
   "execution_count": 54,
   "metadata": {},
   "outputs": [
    {
     "name": "stdout",
     "output_type": "stream",
     "text": [
      "<class 'pandas.core.frame.DataFrame'>\n",
      "RangeIndex: 303 entries, 0 to 302\n",
      "Data columns (total 14 columns):\n",
      " #   Column    Non-Null Count  Dtype  \n",
      "---  ------    --------------  -----  \n",
      " 0   age       303 non-null    int64  \n",
      " 1   sex       303 non-null    int64  \n",
      " 2   cp        303 non-null    int64  \n",
      " 3   trtbps    303 non-null    int64  \n",
      " 4   chol      303 non-null    int64  \n",
      " 5   fbs       303 non-null    int64  \n",
      " 6   restecg   303 non-null    int64  \n",
      " 7   thalachh  303 non-null    int64  \n",
      " 8   exng      303 non-null    int64  \n",
      " 9   oldpeak   303 non-null    float64\n",
      " 10  slp       303 non-null    int64  \n",
      " 11  caa       303 non-null    int64  \n",
      " 12  thall     303 non-null    int64  \n",
      " 13  output    303 non-null    int64  \n",
      "dtypes: float64(1), int64(13)\n",
      "memory usage: 33.3 KB\n"
     ]
    }
   ],
   "source": [
    "heart_dataset = pd.read_csv(\"../dataset/heart.csv\")\n",
    "heart_dataset.info()"
   ]
  },
  {
   "attachments": {},
   "cell_type": "markdown",
   "metadata": {},
   "source": [
    "## 2. Integración y selección\n",
    "\n",
    "Integración y selección de los datos de interés a analizar. Puede ser el resultado de adicionar diferentes datasets o una subselección útil de los datos originales, en base al objetivo que se quiera conseguir.\n",
    "\n",
    "Para el objetivo del problema, vamos a seleccionar un subconjunto de datos según los factores más relevantes para el objeto del estudio:\n",
    "\n",
    "- Tipo de dolor torácico (cp)\n",
    "    - Valor 1: angina típica\n",
    "    - Valor 2: angina atípica\n",
    "    - Valor 3: dolor no anginoso\n",
    "    - Valor 4: asintomático\n",
    "- Presión arterial en reposo en mmHg (trtbps)\n",
    "- Colesterol en mg/dl (chol)\n",
    "- Glucemia en ayunas mayor a 120 mg/dl (fbs)\n",
    "- Resultados electrocardiográficos en reposo (restecg)\n",
    "    - Valor 0: normal.\n",
    "    - Valor 1: con anomalía de la onda ST-T (inversiones de la onda T y/o elevación o depresión del ST de > 0,05 mV).\n",
    "    - Valor 2: hipertrofia ventricular izquierda probable o definida.\n",
    "- Frecuencia cardiaca máxima alcanzada (thalachh)\n",
    "- Probabilidad de infarto (output)"
   ]
  },
  {
   "cell_type": "code",
   "execution_count": 55,
   "metadata": {},
   "outputs": [
    {
     "name": "stdout",
     "output_type": "stream",
     "text": [
      "   cp  trtbps  chol  fbs  restecg  thalachh  output\n",
      "0   3     145   233    1        0       150       1\n",
      "1   2     130   250    0        1       187       1\n",
      "2   1     130   204    0        0       172       1\n",
      "3   1     120   236    0        1       178       1\n",
      "4   0     120   354    0        1       163       1\n"
     ]
    }
   ],
   "source": [
    "chest_pain = \"cp\"\n",
    "resting_blood_pressure = \"trtbps\"\n",
    "cholestoral = \"chol\"\n",
    "fasting_blood_sugar = \"fbs\"\n",
    "resting_electrocardiographic_results = \"restecg\"\n",
    "maximum_heart_rate = \"thalachh\"\n",
    "chance_heart_attack = \"output\"\n",
    "\n",
    "heart_dataset = heart_dataset[\n",
    "    [chest_pain, \n",
    "     resting_blood_pressure,\n",
    "     cholestoral, \n",
    "     fasting_blood_sugar, \n",
    "     resting_electrocardiographic_results, \n",
    "     maximum_heart_rate, \n",
    "     chance_heart_attack]]  \n",
    "  \n",
    "print(heart_dataset.head())  "
   ]
  },
  {
   "attachments": {},
   "cell_type": "markdown",
   "metadata": {},
   "source": [
    "Si el problema quisiese determinar si los síntomas son similares para ambos géneros, sí sería interesante quedarnos con datos de género, pero para el problema planteado podemos obviar el género y edad al querer únicamente basarnos en ver la relación de datos médicos con la probabilidad de infarto."
   ]
  },
  {
   "attachments": {},
   "cell_type": "markdown",
   "metadata": {},
   "source": [
    "## 3. Limpieza de los datos\n",
    "\n",
    "### 3.1. Elementos ceros y vacíos\n",
    "\n",
    "Primero, vamos a observar si existe algún elemento vacío o nulo. Para ello, vamos a apoyarnos de la función isnull presente en los objetos DataFrame de Python, tras ejecutarlo, se puede observar que para este data set no hay ningún elemento nulo."
   ]
  },
  {
   "cell_type": "code",
   "execution_count": 56,
   "metadata": {},
   "outputs": [
    {
     "name": "stdout",
     "output_type": "stream",
     "text": [
      "cp          0\n",
      "trtbps      0\n",
      "chol        0\n",
      "fbs         0\n",
      "restecg     0\n",
      "thalachh    0\n",
      "output      0\n",
      "dtype: int64\n"
     ]
    }
   ],
   "source": [
    "# Contar los valores nulos en cada columna  \n",
    "print(heart_dataset.isnull().sum())  "
   ]
  },
  {
   "attachments": {},
   "cell_type": "markdown",
   "metadata": {},
   "source": [
    "Por lo tanto, los valores nulos no requieren de ninguna acción correctiva.\n",
    "\n",
    "Por otro lado, vamos a estudiar si hay elementos ceros entre las columnas que hemos seleccionado. Como el tipo de dolor torácico, la glucemia en ayunas mayor a 120 mg/dl, los resultados electrocardiográficos en reposo y el resultado son en realidad valores categóricos en los que algunos de sus estados pueden ser 0, no tiene sentido revisar si tienen elementos ceros, así que vamos a centrarnos en el resto."
   ]
  },
  {
   "cell_type": "code",
   "execution_count": 57,
   "metadata": {},
   "outputs": [
    {
     "name": "stdout",
     "output_type": "stream",
     "text": [
      "trtbps      0\n",
      "chol        0\n",
      "thalachh    0\n",
      "dtype: int64\n"
     ]
    }
   ],
   "source": [
    "selected_data = heart_dataset[[\n",
    "    resting_blood_pressure,\n",
    "    cholestoral,\n",
    "    maximum_heart_rate\n",
    "]]\n",
    "\n",
    "print((selected_data == 0).sum())"
   ]
  },
  {
   "attachments": {},
   "cell_type": "markdown",
   "metadata": {},
   "source": [
    "Como se puede observar, no existen elementos ceros entre las variables numéricas, por lo tanto no se debe hacer ninguna acción correctora."
   ]
  },
  {
   "attachments": {},
   "cell_type": "markdown",
   "metadata": {},
   "source": [
    "### 3.2. Identificar y gestionar los valores extremos\n",
    "\n",
    "Para obtener los valores extremos, vamos a buscar todos los registros que se encuentren al menos a 3 desviaciones estándar alejados de la media.\n",
    "\n",
    "Definiremos la siguiente función para encontrarlos."
   ]
  },
  {
   "cell_type": "code",
   "execution_count": 58,
   "metadata": {},
   "outputs": [],
   "source": [
    "def get_outliers(data_set, column_name, num_std):  \n",
    "  \n",
    "    column_mean = data_set[column_name].mean()  \n",
    "    column_std = data_set[column_name].std()  \n",
    "  \n",
    "    column_upper_limit = column_mean + num_std * column_std  \n",
    "    column_lower_limit = column_mean - num_std * column_std  \n",
    "  \n",
    "    # Contar la cantidad de valores extremos en la columna  \n",
    "    return ((data_set[column_name] > column_upper_limit) | (data_set[column_name] < column_lower_limit))"
   ]
  },
  {
   "cell_type": "code",
   "execution_count": 59,
   "metadata": {},
   "outputs": [
    {
     "name": "stdout",
     "output_type": "stream",
     "text": [
      "Número de valores extremos de presión arterial en reposo:  2\n",
      "Número de valores extremos de colesterol:  4\n",
      "Número de valores extremos de Frecuencia cardiaca máxima alcanzada:  1\n"
     ]
    }
   ],
   "source": [
    "resting_blood_pressure_outliers = get_outliers(heart_dataset, resting_blood_pressure, 3)\n",
    "print(\"Número de valores extremos de presión arterial en reposo: \", resting_blood_pressure_outliers.sum())\n",
    "\n",
    "cholestoral_outliers = get_outliers(heart_dataset, cholestoral, 3)\n",
    "print(\"Número de valores extremos de colesterol: \", cholestoral_outliers.sum())\n",
    "\n",
    "maximum_heart_rate_outliers = get_outliers(heart_dataset, maximum_heart_rate, 3)\n",
    "print(\"Número de valores extremos de Frecuencia cardiaca máxima alcanzada: \", maximum_heart_rate_outliers.sum())"
   ]
  },
  {
   "attachments": {},
   "cell_type": "markdown",
   "metadata": {},
   "source": [
    "Se observa por lo tanto que existen algunos valores extremos."
   ]
  },
  {
   "cell_type": "code",
   "execution_count": 60,
   "metadata": {},
   "outputs": [],
   "source": [
    "def print_histogram(column, title, xlabel, ylabel):\n",
    "    plt.hist(column, bins=20)  \n",
    "    plt.xlabel(xlabel)  \n",
    "    plt.ylabel(ylabel)  \n",
    "    plt.title(title)  \n",
    "    plt.show()  \n",
    "\n",
    "def print_boxplot(column, title, xlabel, ylabel):\n",
    "    plt.boxplot(column)  \n",
    "    plt.xlabel(xlabel)  \n",
    "    plt.ylabel(ylabel)  \n",
    "    plt.title(title)  \n",
    "    plt.show()"
   ]
  },
  {
   "cell_type": "code",
   "execution_count": 61,
   "metadata": {},
   "outputs": [
    {
     "data": {
      "image/png": "[encoded data removed]",
      "text/plain": [
       "<Figure size 640x480 with 1 Axes>"
      ]
     },
     "metadata": {},
     "output_type": "display_data"
    }
   ],
   "source": [
    "print_histogram(\n",
    "    heart_dataset[resting_blood_pressure], \n",
    "    \"Histograma de la presión de la sangre en reposo\",\n",
    "    \"Presión en sangre\",\n",
    "    \"mmHg\")\n"
   ]
  },
  {
   "cell_type": "code",
   "execution_count": 62,
   "metadata": {},
   "outputs": [
    {
     "data": {
      "image/png": "[encoded data removed]",
      "text/plain": [
       "<Figure size 640x480 with 1 Axes>"
      ]
     },
     "metadata": {},
     "output_type": "display_data"
    }
   ],
   "source": [
    "print_boxplot(\n",
    "    heart_dataset[resting_blood_pressure], \n",
    "    \"Diagrama de cajas de la presión de la sangre en reposo\",\n",
    "    \"Presión en sangre\",\n",
    "    \"mmHg\")"
   ]
  },
  {
   "cell_type": "code",
   "execution_count": 63,
   "metadata": {},
   "outputs": [
    {
     "data": {
      "image/png": "[encoded data removed]",
      "text/plain": [
       "<Figure size 640x480 with 1 Axes>"
      ]
     },
     "metadata": {},
     "output_type": "display_data"
    }
   ],
   "source": [
    "print_histogram(\n",
    "    heart_dataset[cholestoral], \n",
    "    \"Histograma del colesterol\",\n",
    "    \"Colesterol\",\n",
    "    \"mg/dl\")"
   ]
  },
  {
   "cell_type": "code",
   "execution_count": 64,
   "metadata": {},
   "outputs": [
    {
     "data": {
      "image/png": "[encoded data removed]",
      "text/plain": [
       "<Figure size 640x480 with 1 Axes>"
      ]
     },
     "metadata": {},
     "output_type": "display_data"
    }
   ],
   "source": [
    "print_boxplot(\n",
    "    heart_dataset[cholestoral], \n",
    "    \"Diagrama de cajas del colesterol\",\n",
    "    \"Colesterol\",\n",
    "    \"mg/dl\")"
   ]
  },
  {
   "cell_type": "code",
   "execution_count": 65,
   "metadata": {},
   "outputs": [
    {
     "data": {
      "image/png": "[encoded data removed]",
      "text/plain": [
       "<Figure size 640x480 with 1 Axes>"
      ]
     },
     "metadata": {},
     "output_type": "display_data"
    }
   ],
   "source": [
    "print_histogram(\n",
    "    heart_dataset[maximum_heart_rate], \n",
    "    \"Histograma de la frecuencia cardiaca máxima alcanzada\",\n",
    "    \"Frecuencia cardiaca máxima alcanzada\",\n",
    "    \"Frecuencia cardiaca\")"
   ]
  },
  {
   "cell_type": "code",
   "execution_count": 66,
   "metadata": {},
   "outputs": [
    {
     "data": {
      "image/png": "[encoded data removed]",
      "text/plain": [
       "<Figure size 640x480 with 1 Axes>"
      ]
     },
     "metadata": {},
     "output_type": "display_data"
    }
   ],
   "source": [
    "print_boxplot(\n",
    "    heart_dataset[maximum_heart_rate], \n",
    "    \"Diagrama de cajas de la frecuencia cardiaca máxima alcanzada\",\n",
    "    \"Frecuencia cardiaca máxima alcanzada\",\n",
    "    \"Frecuencia cardiaca\")"
   ]
  },
  {
   "attachments": {},
   "cell_type": "markdown",
   "metadata": {},
   "source": [
    "Tras observar las gráficas, podemos concluir que mientras que la presión arterial en reposo y el colesterol tienen valores extremos por ser muy superiores a la media, la frecuencia máxima alcanzada es al revés, se trata de un valor muy por debajo de la media, lo que se puede intuir que este valor sí se puede tratar de un error, lo cual es más difícil afirmar en el resto de valores extremos."
   ]
  },
  {
   "attachments": {},
   "cell_type": "markdown",
   "metadata": {},
   "source": [
    "### 4.2. Comparación de la normalidad y homogeneidad de la varianza\n",
    "\n"
   ]
  },
  {
   "attachments": {},
   "cell_type": "markdown",
   "metadata": {},
   "source": [
    "Para la comparación de normalidad y homogeneidad de la varianza de las variables, vamos a utilizar la prueba de de normalidad de Shapiro-Wilk a las variables que vamos a emplear. Para ello definimos la siguiente función en Python."
   ]
  },
  {
   "cell_type": "code",
   "execution_count": 68,
   "metadata": {},
   "outputs": [],
   "source": [
    "def shapiro_test(data_set, column_name):\n",
    "    statistic, p_value = shapiro(data_set[column_name])  \n",
    "    print(\"Prueba de normalidad de Shapiro-Wilk en la columna \", column_name, \" :\")  \n",
    "    print(\"Estadístico de prueba:\", statistic)  \n",
    "    print(\"Valor p:\", p_value)  "
   ]
  },
  {
   "attachments": {},
   "cell_type": "markdown",
   "metadata": {},
   "source": [
    "Una vez definida, ejecutamos el test para cada variable:"
   ]
  },
  {
   "cell_type": "code",
   "execution_count": 71,
   "metadata": {},
   "outputs": [
    {
     "name": "stdout",
     "output_type": "stream",
     "text": [
      "Prueba de normalidad de Shapiro-Wilk en la columna  chol  :\n",
      "Estadístico de prueba: 0.9468811750411987\n",
      "Valor p: 5.364368060867264e-09\n"
     ]
    }
   ],
   "source": [
    "shapiro_test(\n",
    "    heart_dataset,\n",
    "    cholestoral)"
   ]
  },
  {
   "cell_type": "code",
   "execution_count": 75,
   "metadata": {},
   "outputs": [
    {
     "name": "stdout",
     "output_type": "stream",
     "text": [
      "Prueba de normalidad de Shapiro-Wilk en la columna  trtbps  :\n",
      "Estadístico de prueba: 0.9659166932106018\n",
      "Valor p: 1.4575286968465662e-06\n"
     ]
    }
   ],
   "source": [
    "shapiro_test(\n",
    "    heart_dataset,\n",
    "    resting_blood_pressure)"
   ]
  },
  {
   "cell_type": "code",
   "execution_count": 76,
   "metadata": {},
   "outputs": [
    {
     "name": "stdout",
     "output_type": "stream",
     "text": [
      "Prueba de normalidad de Shapiro-Wilk en la columna  fbs  :\n",
      "Estadístico de prueba: 0.4239869713783264\n",
      "Valor p: 5.4308542423809215e-30\n"
     ]
    }
   ],
   "source": [
    "shapiro_test(\n",
    "    heart_dataset,\n",
    "    fasting_blood_sugar)"
   ]
  },
  {
   "cell_type": "code",
   "execution_count": 77,
   "metadata": {},
   "outputs": [
    {
     "name": "stdout",
     "output_type": "stream",
     "text": [
      "Prueba de normalidad de Shapiro-Wilk en la columna  restecg  :\n",
      "Estadístico de prueba: 0.6793190240859985\n",
      "Valor p: 1.3784006410641926e-23\n"
     ]
    }
   ],
   "source": [
    "shapiro_test(\n",
    "    heart_dataset,\n",
    "    resting_electrocardiographic_results)"
   ]
  },
  {
   "cell_type": "code",
   "execution_count": 78,
   "metadata": {},
   "outputs": [
    {
     "name": "stdout",
     "output_type": "stream",
     "text": [
      "Prueba de normalidad de Shapiro-Wilk en la columna  thalachh  :\n",
      "Estadístico de prueba: 0.9763153195381165\n",
      "Valor p: 6.620732165174559e-05\n"
     ]
    }
   ],
   "source": [
    "shapiro_test(\n",
    "    heart_dataset,\n",
    "    maximum_heart_rate)"
   ]
  },
  {
   "attachments": {},
   "cell_type": "markdown",
   "metadata": {},
   "source": [
    "Viendo los resultados, se puede concluir que como todos los p valores son muy inferiores al nivel de significancia (0,05), estos no siguen una distribución normal."
   ]
  },
  {
   "attachments": {},
   "cell_type": "markdown",
   "metadata": {},
   "source": [
    "### 4.3. Aplicación de pruebas estadísticas para comparar los grupos de datos\n",
    "\n",
    "Como los diferentes datos del dataset no presentan una distribución normal, las pruebas estadísticas que se utilizarán para analizar y comparar los diferentes grupos serán paramétricas. Para las variables dicotómicas, utilizaremos el test de Wilcoxon. "
   ]
  },
  {
   "cell_type": "code",
   "execution_count": 82,
   "metadata": {},
   "outputs": [],
   "source": [
    "def wilcoxon_test(data_set, column_name_first, column_name_second):\n",
    "    statistic, p_value = wilcoxon(data_set[column_name_first], data_set[column_name_second])  \n",
    "    print(\"Prueba de Wilcoxon en las columnas \", column_name_first, \" y \", column_name_second)  \n",
    "    print(\"Estadístico de prueba:\", statistic)  \n",
    "    print(\"Valor p:\", p_value)  "
   ]
  },
  {
   "attachments": {},
   "cell_type": "markdown",
   "metadata": {},
   "source": [
    "Comparamos la glucemia en ayunas mayor a 120 mg/dl con la probabilidad de infarto."
   ]
  },
  {
   "cell_type": "code",
   "execution_count": 86,
   "metadata": {},
   "outputs": [
    {
     "name": "stdout",
     "output_type": "stream",
     "text": [
      "Prueba de Wilcoxon en las columnas  fbs  y  output\n",
      "Estadístico de prueba: 1815.0\n",
      "Valor p: 7.224055883238502e-21\n"
     ]
    }
   ],
   "source": [
    "wilcoxon_test(\n",
    "    heart_dataset,\n",
    "    fasting_blood_sugar,\n",
    "    chance_heart_attack)"
   ]
  },
  {
   "attachments": {},
   "cell_type": "markdown",
   "metadata": {},
   "source": [
    "En el test anterior se muestra que las diferencias entre los grupos de datos son estadísticamente significativas (p < 0.05). Es decir, la glucemia es estadísticamente diferentes entre personas con más probabilidad de infartos que con las de menos probabilidad."
   ]
  },
  {
   "attachments": {},
   "cell_type": "markdown",
   "metadata": {},
   "source": [
    "El test equivalente cuando se tienen 3 o más grupos de datos, como es el caso del tipo de dolor torácico y el de resultados electrocardiográficos, es el test de Kruskal-Wallis:"
   ]
  },
  {
   "cell_type": "code",
   "execution_count": 89,
   "metadata": {},
   "outputs": [],
   "source": [
    "def krushal_test(data_set, column_name_first, column_name_second):\n",
    "    statistic, p_value = kruskal(data_set[column_name_first], data_set[column_name_second])  \n",
    "    print(\"Prueba de Kruskal-Wallis en las columnas \", column_name_first, \" y \", column_name_second)  \n",
    "    print(\"Estadístico de prueba:\", statistic)  \n",
    "    print(\"Valor p:\", p_value)  "
   ]
  },
  {
   "attachments": {},
   "cell_type": "markdown",
   "metadata": {},
   "source": [
    "Comparamos el tipo de dolor torácico con la probabilidad de sufrir un infarto."
   ]
  },
  {
   "cell_type": "code",
   "execution_count": 91,
   "metadata": {},
   "outputs": [
    {
     "name": "stdout",
     "output_type": "stream",
     "text": [
      "Prueba de Kruskal-Wallis en las columnas  cp  y  output\n",
      "Estadístico de prueba: 17.47159524838154\n",
      "Valor p: 2.9163252122459847e-05\n"
     ]
    }
   ],
   "source": [
    "krushal_test(\n",
    "    heart_dataset,\n",
    "    chest_pain,\n",
    "    chance_heart_attack)"
   ]
  },
  {
   "attachments": {},
   "cell_type": "markdown",
   "metadata": {},
   "source": [
    "Comparamos el tipo de resultado de electrocardiograma en reposo con la probabilidad de sufrir un infarto."
   ]
  },
  {
   "cell_type": "code",
   "execution_count": 92,
   "metadata": {},
   "outputs": [
    {
     "name": "stdout",
     "output_type": "stream",
     "text": [
      "Prueba de Kruskal-Wallis en las columnas  restecg  y  output\n",
      "Estadístico de prueba: 0.3055092250978719\n",
      "Valor p: 0.5804490681583108\n"
     ]
    }
   ],
   "source": [
    "krushal_test(\n",
    "    heart_dataset,\n",
    "    resting_electrocardiographic_results,\n",
    "    chance_heart_attack)"
   ]
  },
  {
   "attachments": {},
   "cell_type": "markdown",
   "metadata": {},
   "source": [
    "En este caso, observamos que el dolor torácico sí tiene una cierta diferencia estadística entre grupos por probabilidad de infarto, pero no podemos asegurar lo mismo para el tipo e electrocardiagrama en reposo ya que para este caso sí hay un p value significativo al ser mayor que 0,05.\n",
    "\n",
    "A continuación, para las variables numéricas, vamos a estudiar sus correlaciones utilizando la correlación de Spearman ya que no podemos confirmar la normalidad y homocedasticidad."
   ]
  },
  {
   "cell_type": "code",
   "execution_count": 96,
   "metadata": {},
   "outputs": [],
   "source": [
    "def student_test(data_set, column_name, column_name_target):\n",
    "    group1 = data_set[column_name][data_set[column_name_target] == 0]\n",
    "    group2 = data_set[column_name][data_set[column_name_target] == 1]\n",
    "    statistic, p_value = ttest_ind(group1, group2)  \n",
    "    print(\"Test de student en las columnas \", column_name, \" y \", column_name_target)  \n",
    "    print(\"Estadístico de prueba:\", statistic)  \n",
    "    print(\"Valor p:\", p_value)  "
   ]
  },
  {
   "attachments": {},
   "cell_type": "markdown",
   "metadata": {},
   "source": [
    "Comparamos el tipo de resultado del colesterol con la probabilidad de sufrir un infarto."
   ]
  },
  {
   "cell_type": "code",
   "execution_count": 97,
   "metadata": {},
   "outputs": [
    {
     "name": "stdout",
     "output_type": "stream",
     "text": [
      "Test de student en las columnas  chol  y  output\n",
      "Estadístico de prueba: 1.4842450762526977\n",
      "Valor p: 0.1387903269560064\n"
     ]
    }
   ],
   "source": [
    "student_test(\n",
    "    heart_dataset,\n",
    "    cholestoral,\n",
    "    chance_heart_attack\n",
    ")"
   ]
  },
  {
   "attachments": {},
   "cell_type": "markdown",
   "metadata": {},
   "source": [
    "Se observa que tiene un p significativo (p > 0.05) y por lo tanto se puede concluir que no hay una diferencia significativa entre las medias de los dos grupos.\n",
    "\n",
    "Ahora comparamos con la frecuencia máxima alcanzada."
   ]
  },
  {
   "cell_type": "code",
   "execution_count": 98,
   "metadata": {},
   "outputs": [
    {
     "name": "stdout",
     "output_type": "stream",
     "text": [
      "Test de student en las columnas  thalachh  y  output\n",
      "Estadístico de prueba: -8.069702869452568\n",
      "Valor p: 1.697337638656049e-14\n"
     ]
    }
   ],
   "source": [
    "student_test(\n",
    "    heart_dataset,\n",
    "    maximum_heart_rate,\n",
    "    chance_heart_attack\n",
    ")"
   ]
  },
  {
   "attachments": {},
   "cell_type": "markdown",
   "metadata": {},
   "source": [
    "Se observa que tiene un p no significativo (p < 0.05) y por lo que se puede concluir que hay una diferencia significativa entre las medias de los dos grupos y que por lo tanto sí es un factor a tener en cuenta para un infarto.\n",
    "\n",
    "Por último comparamos con la presión arterial en reposo:"
   ]
  },
  {
   "cell_type": "code",
   "execution_count": 99,
   "metadata": {},
   "outputs": [
    {
     "name": "stdout",
     "output_type": "stream",
     "text": [
      "Test de student en las columnas  trtbps  y  output\n",
      "Estadístico de prueba: 2.5412927171039\n",
      "Valor p: 0.011546059200233312\n"
     ]
    }
   ],
   "source": [
    "student_test(\n",
    "    heart_dataset,\n",
    "    resting_blood_pressure,\n",
    "    chance_heart_attack\n",
    ")"
   ]
  },
  {
   "attachments": {},
   "cell_type": "markdown",
   "metadata": {},
   "source": [
    "Y se observa que tiene, al igual que el nivel de colesterol, un p significativo (p > 0.05) y por lo que se puede concluir que no hay una diferencia significativa entre las medias de los dos grupos y que por lo tanto no se intuye correlación."
   ]
  },
  {
   "attachments": {},
   "cell_type": "markdown",
   "metadata": {},
   "source": [
    "## 6. Resolución del problema\n",
    "\n",
    "\n",
    "A partir del análisis anterior, hemos podido profundizar en qué variables médicas se tiene una mayor correlación con probabilidad de infarto. Con esta información se puede intuir en un paciente las probabilidades de que sufra un infarto. Se observan que variables como la frecuencia cardiaca máxima alcanzada, el tipo de dolor torácico y la glucemia en ayunas mayor a 120 mg/dl pueden ser indicadores interesantes al tener una cierta correlación. Por otro lado el resto de variables no encuentran diferencias estadísticas.\n",
    "\n",
    "Por lo tanto, podemos concluir que de las variables analizadas, hay 3 que permiten darnos indicadores médicos que puedan aproximar en cierta medida la probabilidad de infarto."
   ]
  }
 ],
 "metadata": {
  "kernelspec": {
   "display_name": "Python 3 (ipykernel)",
   "language": "python",
   "name": "python3"
  },
  "language_info": {
   "codemirror_mode": {
    "name": "ipython",
    "version": 3
   },
   "file_extension": ".py",
   "mimetype": "text/x-python",
   "name": "python",
   "nbconvert_exporter": "python",
   "pygments_lexer": "ipython3",
   "version": "3.10.5"
  },
  "toc": {
   "base_numbering": 1,
   "nav_menu": {},
   "number_sections": true,
   "sideBar": true,
   "skip_h1_title": false,
   "title_cell": "Table of Contents",
   "title_sidebar": "Contents",
   "toc_cell": false,
   "toc_position": {},
   "toc_section_display": true,
   "toc_window_display": false
  }
 },
 "nbformat": 4,
 "nbformat_minor": 4
}
